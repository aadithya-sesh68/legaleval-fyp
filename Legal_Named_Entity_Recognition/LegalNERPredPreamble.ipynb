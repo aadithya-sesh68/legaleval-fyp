{
  "nbformat": 4,
  "nbformat_minor": 0,
  "metadata": {
    "colab": {
      "provenance": []
    },
    "kernelspec": {
      "name": "python3",
      "display_name": "Python 3"
    },
    "language_info": {
      "name": "python"
    },
    "accelerator": "GPU",
    "gpuClass": "standard"
  },
  "cells": [
    {
      "cell_type": "markdown",
      "source": [
        "Make sure to upload NER_TRAIN_PREAMBLE.json to colab runtime and have the model-best.zip and model-last.zip uploaded in your gdrive before running the below codes\n",
        "\n",
        "model-best.zip link : https://drive.google.com/file/d/1JS78a_xz_maOeDN2kkAdbSc3NzWBJzlQ/view?usp=sharing\n",
        "\n",
        "model-last.zip link: https://drive.google.com/file/d/1vhRJ4htbYn4rW7dSB3VskfpJvKxrxvYm/view?usp=sharing"
      ],
      "metadata": {
        "id": "Du9EedfI6lKc"
      }
    },
    {
      "cell_type": "code",
      "execution_count": null,
      "metadata": {
        "colab": {
          "base_uri": "https://localhost:8080/"
        },
        "id": "8oiea3xcyp3h",
        "outputId": "d085daba-6661-427b-e133-e98e9edc211e"
      },
      "outputs": [
        {
          "output_type": "stream",
          "name": "stdout",
          "text": [
            "Mounted at /content/gdrive\n"
          ]
        }
      ],
      "source": [
        "from google.colab import drive\n",
        "drive.mount('/content/gdrive')"
      ]
    },
    {
      "cell_type": "code",
      "source": [
        "!unzip gdrive/My\\ Drive/preamble_models/model-best.zip"
      ],
      "metadata": {
        "colab": {
          "base_uri": "https://localhost:8080/"
        },
        "id": "SKtSK7P-yrOn",
        "outputId": "f7cfdbac-1bc9-43a9-d4d2-a62c9f31dc39"
      },
      "execution_count": null,
      "outputs": [
        {
          "output_type": "stream",
          "name": "stdout",
          "text": [
            "Archive:  gdrive/My Drive/preamble_models/model-best.zip\n",
            "  inflating: model-best/meta.json    \n",
            "  inflating: model-best/config.cfg   \n",
            "  inflating: model-best/tokenizer    \n",
            "  inflating: model-best/vocab/vectors.cfg  \n",
            "  inflating: model-best/vocab/strings.json  \n",
            "  inflating: model-best/vocab/lookups.bin  \n",
            "  inflating: model-best/ner/model    \n",
            "  inflating: model-best/vocab/vectors  \n",
            "  inflating: model-best/vocab/key2row  \n",
            "  inflating: model-best/ner/cfg      \n",
            "  inflating: model-best/ner/moves    \n",
            "  inflating: model-best/transformer/cfg  \n",
            "  inflating: model-best/transformer/model  \n"
          ]
        }
      ]
    },
    {
      "cell_type": "code",
      "source": [
        "!unzip gdrive/My\\ Drive/preamble_models/model-last.zip"
      ],
      "metadata": {
        "colab": {
          "base_uri": "https://localhost:8080/"
        },
        "id": "CK5FwolYy7m2",
        "outputId": "0782b53f-36ed-4c6b-9719-1ffd1b09d212"
      },
      "execution_count": null,
      "outputs": [
        {
          "output_type": "stream",
          "name": "stdout",
          "text": [
            "Archive:  gdrive/My Drive/preamble_models/model-last.zip\n",
            "  inflating: model-last/tokenizer    \n",
            "  inflating: model-last/ner/moves    \n",
            "  inflating: model-last/config.cfg   \n",
            "  inflating: model-last/ner/model    \n",
            "  inflating: model-last/meta.json    \n",
            "  inflating: model-last/ner/cfg      \n",
            "  inflating: model-last/transformer/cfg  \n",
            "  inflating: model-last/vocab/key2row  \n",
            "  inflating: model-last/vocab/vectors.cfg  \n",
            "  inflating: model-last/vocab/strings.json  \n",
            "  inflating: model-last/vocab/vectors  \n",
            "  inflating: model-last/vocab/lookups.bin  \n",
            "  inflating: model-last/transformer/model  \n"
          ]
        }
      ]
    },
    {
      "cell_type": "code",
      "source": [
        "pip install spacy-transformers"
      ],
      "metadata": {
        "colab": {
          "base_uri": "https://localhost:8080/"
        },
        "id": "-AQxHkk-0_CK",
        "outputId": "806897b4-08dc-4575-e0e1-83cded77458f"
      },
      "execution_count": null,
      "outputs": [
        {
          "output_type": "stream",
          "name": "stdout",
          "text": [
            "Looking in indexes: https://pypi.org/simple, https://us-python.pkg.dev/colab-wheels/public/simple/\n",
            "Collecting spacy-transformers\n",
            "  Downloading spacy_transformers-1.1.8-py2.py3-none-any.whl (53 kB)\n",
            "\u001b[K     |████████████████████████████████| 53 kB 2.4 MB/s \n",
            "\u001b[?25hRequirement already satisfied: torch>=1.6.0 in /usr/local/lib/python3.7/dist-packages (from spacy-transformers) (1.12.1+cu113)\n",
            "Requirement already satisfied: spacy<4.0.0,>=3.4.0 in /usr/local/lib/python3.7/dist-packages (from spacy-transformers) (3.4.2)\n",
            "Collecting transformers<4.22.0,>=3.4.0\n",
            "  Downloading transformers-4.21.3-py3-none-any.whl (4.7 MB)\n",
            "\u001b[K     |████████████████████████████████| 4.7 MB 49.1 MB/s \n",
            "\u001b[?25hRequirement already satisfied: srsly<3.0.0,>=2.4.0 in /usr/local/lib/python3.7/dist-packages (from spacy-transformers) (2.4.5)\n",
            "Collecting spacy-alignments<1.0.0,>=0.7.2\n",
            "  Downloading spacy_alignments-0.8.6-cp37-cp37m-manylinux_2_17_x86_64.manylinux2014_x86_64.whl (1.1 MB)\n",
            "\u001b[K     |████████████████████████████████| 1.1 MB 57.1 MB/s \n",
            "\u001b[?25hRequirement already satisfied: catalogue<2.1.0,>=2.0.6 in /usr/local/lib/python3.7/dist-packages (from spacy<4.0.0,>=3.4.0->spacy-transformers) (2.0.8)\n",
            "Requirement already satisfied: thinc<8.2.0,>=8.1.0 in /usr/local/lib/python3.7/dist-packages (from spacy<4.0.0,>=3.4.0->spacy-transformers) (8.1.5)\n",
            "Requirement already satisfied: setuptools in /usr/local/lib/python3.7/dist-packages (from spacy<4.0.0,>=3.4.0->spacy-transformers) (57.4.0)\n",
            "Requirement already satisfied: packaging>=20.0 in /usr/local/lib/python3.7/dist-packages (from spacy<4.0.0,>=3.4.0->spacy-transformers) (21.3)\n",
            "Requirement already satisfied: typing-extensions<4.2.0,>=3.7.4 in /usr/local/lib/python3.7/dist-packages (from spacy<4.0.0,>=3.4.0->spacy-transformers) (4.1.1)\n",
            "Requirement already satisfied: typer<0.5.0,>=0.3.0 in /usr/local/lib/python3.7/dist-packages (from spacy<4.0.0,>=3.4.0->spacy-transformers) (0.4.2)\n",
            "Requirement already satisfied: tqdm<5.0.0,>=4.38.0 in /usr/local/lib/python3.7/dist-packages (from spacy<4.0.0,>=3.4.0->spacy-transformers) (4.64.1)\n",
            "Requirement already satisfied: numpy>=1.15.0 in /usr/local/lib/python3.7/dist-packages (from spacy<4.0.0,>=3.4.0->spacy-transformers) (1.21.6)\n",
            "Requirement already satisfied: spacy-legacy<3.1.0,>=3.0.10 in /usr/local/lib/python3.7/dist-packages (from spacy<4.0.0,>=3.4.0->spacy-transformers) (3.0.10)\n",
            "Requirement already satisfied: jinja2 in /usr/local/lib/python3.7/dist-packages (from spacy<4.0.0,>=3.4.0->spacy-transformers) (2.11.3)\n",
            "Requirement already satisfied: cymem<2.1.0,>=2.0.2 in /usr/local/lib/python3.7/dist-packages (from spacy<4.0.0,>=3.4.0->spacy-transformers) (2.0.7)\n",
            "Requirement already satisfied: pydantic!=1.8,!=1.8.1,<1.11.0,>=1.7.4 in /usr/local/lib/python3.7/dist-packages (from spacy<4.0.0,>=3.4.0->spacy-transformers) (1.10.2)\n",
            "Requirement already satisfied: wasabi<1.1.0,>=0.9.1 in /usr/local/lib/python3.7/dist-packages (from spacy<4.0.0,>=3.4.0->spacy-transformers) (0.10.1)\n",
            "Requirement already satisfied: pathy>=0.3.5 in /usr/local/lib/python3.7/dist-packages (from spacy<4.0.0,>=3.4.0->spacy-transformers) (0.6.2)\n",
            "Requirement already satisfied: langcodes<4.0.0,>=3.2.0 in /usr/local/lib/python3.7/dist-packages (from spacy<4.0.0,>=3.4.0->spacy-transformers) (3.3.0)\n",
            "Requirement already satisfied: spacy-loggers<2.0.0,>=1.0.0 in /usr/local/lib/python3.7/dist-packages (from spacy<4.0.0,>=3.4.0->spacy-transformers) (1.0.3)\n",
            "Requirement already satisfied: murmurhash<1.1.0,>=0.28.0 in /usr/local/lib/python3.7/dist-packages (from spacy<4.0.0,>=3.4.0->spacy-transformers) (1.0.9)\n",
            "Requirement already satisfied: requests<3.0.0,>=2.13.0 in /usr/local/lib/python3.7/dist-packages (from spacy<4.0.0,>=3.4.0->spacy-transformers) (2.23.0)\n",
            "Requirement already satisfied: preshed<3.1.0,>=3.0.2 in /usr/local/lib/python3.7/dist-packages (from spacy<4.0.0,>=3.4.0->spacy-transformers) (3.0.8)\n",
            "Requirement already satisfied: zipp>=0.5 in /usr/local/lib/python3.7/dist-packages (from catalogue<2.1.0,>=2.0.6->spacy<4.0.0,>=3.4.0->spacy-transformers) (3.10.0)\n",
            "Requirement already satisfied: pyparsing!=3.0.5,>=2.0.2 in /usr/local/lib/python3.7/dist-packages (from packaging>=20.0->spacy<4.0.0,>=3.4.0->spacy-transformers) (3.0.9)\n",
            "Requirement already satisfied: smart-open<6.0.0,>=5.2.1 in /usr/local/lib/python3.7/dist-packages (from pathy>=0.3.5->spacy<4.0.0,>=3.4.0->spacy-transformers) (5.2.1)\n",
            "Requirement already satisfied: certifi>=2017.4.17 in /usr/local/lib/python3.7/dist-packages (from requests<3.0.0,>=2.13.0->spacy<4.0.0,>=3.4.0->spacy-transformers) (2022.9.24)\n",
            "Requirement already satisfied: idna<3,>=2.5 in /usr/local/lib/python3.7/dist-packages (from requests<3.0.0,>=2.13.0->spacy<4.0.0,>=3.4.0->spacy-transformers) (2.10)\n",
            "Requirement already satisfied: urllib3!=1.25.0,!=1.25.1,<1.26,>=1.21.1 in /usr/local/lib/python3.7/dist-packages (from requests<3.0.0,>=2.13.0->spacy<4.0.0,>=3.4.0->spacy-transformers) (1.24.3)\n",
            "Requirement already satisfied: chardet<4,>=3.0.2 in /usr/local/lib/python3.7/dist-packages (from requests<3.0.0,>=2.13.0->spacy<4.0.0,>=3.4.0->spacy-transformers) (3.0.4)\n",
            "Requirement already satisfied: blis<0.8.0,>=0.7.8 in /usr/local/lib/python3.7/dist-packages (from thinc<8.2.0,>=8.1.0->spacy<4.0.0,>=3.4.0->spacy-transformers) (0.7.9)\n",
            "Requirement already satisfied: confection<1.0.0,>=0.0.1 in /usr/local/lib/python3.7/dist-packages (from thinc<8.2.0,>=8.1.0->spacy<4.0.0,>=3.4.0->spacy-transformers) (0.0.3)\n",
            "Requirement already satisfied: pyyaml>=5.1 in /usr/local/lib/python3.7/dist-packages (from transformers<4.22.0,>=3.4.0->spacy-transformers) (6.0)\n",
            "Collecting huggingface-hub<1.0,>=0.1.0\n",
            "  Downloading huggingface_hub-0.10.1-py3-none-any.whl (163 kB)\n",
            "\u001b[K     |████████████████████████████████| 163 kB 72.8 MB/s \n",
            "\u001b[?25hRequirement already satisfied: importlib-metadata in /usr/local/lib/python3.7/dist-packages (from transformers<4.22.0,>=3.4.0->spacy-transformers) (4.13.0)\n",
            "Requirement already satisfied: regex!=2019.12.17 in /usr/local/lib/python3.7/dist-packages (from transformers<4.22.0,>=3.4.0->spacy-transformers) (2022.6.2)\n",
            "Requirement already satisfied: filelock in /usr/local/lib/python3.7/dist-packages (from transformers<4.22.0,>=3.4.0->spacy-transformers) (3.8.0)\n",
            "Collecting tokenizers!=0.11.3,<0.13,>=0.11.1\n",
            "  Downloading tokenizers-0.12.1-cp37-cp37m-manylinux_2_12_x86_64.manylinux2010_x86_64.whl (6.6 MB)\n",
            "\u001b[K     |████████████████████████████████| 6.6 MB 57.8 MB/s \n",
            "\u001b[?25hRequirement already satisfied: click<9.0.0,>=7.1.1 in /usr/local/lib/python3.7/dist-packages (from typer<0.5.0,>=0.3.0->spacy<4.0.0,>=3.4.0->spacy-transformers) (7.1.2)\n",
            "Requirement already satisfied: MarkupSafe>=0.23 in /usr/local/lib/python3.7/dist-packages (from jinja2->spacy<4.0.0,>=3.4.0->spacy-transformers) (2.0.1)\n",
            "Installing collected packages: tokenizers, huggingface-hub, transformers, spacy-alignments, spacy-transformers\n",
            "Successfully installed huggingface-hub-0.10.1 spacy-alignments-0.8.6 spacy-transformers-1.1.8 tokenizers-0.12.1 transformers-4.21.3\n"
          ]
        }
      ]
    },
    {
      "cell_type": "code",
      "source": [
        "import spacy"
      ],
      "metadata": {
        "id": "tE_bwZ4A0Wzp"
      },
      "execution_count": null,
      "outputs": []
    },
    {
      "cell_type": "code",
      "source": [
        "from spacy import displacy"
      ],
      "metadata": {
        "id": "wEpy0S0H0ii_"
      },
      "execution_count": null,
      "outputs": []
    },
    {
      "cell_type": "code",
      "source": [
        "import json"
      ],
      "metadata": {
        "id": "UZAARgFL0pQM"
      },
      "execution_count": null,
      "outputs": []
    },
    {
      "cell_type": "code",
      "source": [
        "import pandas as pd"
      ],
      "metadata": {
        "id": "UdVN_VA60raM"
      },
      "execution_count": null,
      "outputs": []
    },
    {
      "cell_type": "code",
      "source": [
        "df = pd.read_json(r'NER_TRAIN_PREAMBLE.json')\n",
        "d=df.to_dict('records')\n",
        "training_data=[]\n",
        "for i in range(1000):\n",
        "  temp_dict={}\n",
        "  temp_dict['text'] = d[i]['data']['text']\n",
        "  temp_dict['entities'] = []\n",
        "  for annotation in d[i]['annotations'][0]['result']:\n",
        "    start = annotation['value']['start']\n",
        "    end = annotation['value']['end']\n",
        "    label = annotation['value']['labels'][0].upper()\n",
        "    temp_dict['entities'].append((start, end, label))\n",
        "  training_data.append(temp_dict)\n",
        "print(training_data[0])\n",
        "testing_data=[]\n",
        "for i in range(1000,1560):\n",
        "  temp_dict={}\n",
        "  temp_dict['text'] = d[i]['data']['text']\n",
        "  temp_dict['entities'] = []\n",
        "  for annotation in d[i]['annotations'][0]['result']:\n",
        "    start = annotation['value']['start']\n",
        "    end = annotation['value']['end']\n",
        "    label = annotation['value']['labels'][0].upper()\n",
        "    temp_dict['entities'].append((start, end, label))\n",
        "  testing_data.append(temp_dict)\n",
        "\n",
        "training_data_opt=[]\n",
        "for i in range(0,len(training_data)):\n",
        "  if (len(training_data[i]['text'])) < 1250:\n",
        "    training_data_opt.append(training_data[i])\n",
        "\n",
        "testing_data_opt=[]\n",
        "for i in range(0,len(testing_data)):\n",
        "  if (len(testing_data[i]['text'])) < 1250:\n",
        "    testing_data_opt.append(training_data[i])\n",
        "\n"
      ],
      "metadata": {
        "id": "UKl1X5lM1281",
        "colab": {
          "base_uri": "https://localhost:8080/"
        },
        "outputId": "3dcb67a1-b5db-490c-dac3-1e999af26f40"
      },
      "execution_count": null,
      "outputs": [
        {
          "output_type": "stream",
          "name": "stdout",
          "text": [
            "{'text': \"In The High Court Of Kerala At Ernakulam\\n\\nCrl Mc No. 1622 of 2006()\\n\\n\\n1. T.R.Ajayan, S/O. O.Raman,\\n                      ...  Petitioner\\n\\n                        Vs\\n\\n\\n\\n1. M.Ravindran,\\n                       ...       Respondent\\n\\n2. Mrs. Nirmala Dinesh, W/O. Dinesh,\\n\\n                For Petitioner  :Sri.A.Kumar\\n\\n                For Respondent  :Smt.M.K.Pushpalatha\\n\\nThe Hon'ble Mr. Justice P.R.Raman\\nThe Hon'ble Mr. Justice V.K.Mohanan\\n\\n Dated :07/01/2008\\n\\n O R D E R\\n\", 'entities': [(7, 40, 'COURT'), (73, 83, 'PETITIONER'), (171, 182, 'RESPONDENT'), (237, 251, 'RESPONDENT'), (304, 311, 'LAWYER'), (350, 365, 'LAWYER'), (391, 400, 'JUDGE'), (425, 436, 'JUDGE')]}\n"
          ]
        }
      ]
    },
    {
      "cell_type": "code",
      "source": [
        "nlp_ner = spacy.load(\"/content/model-best/\")"
      ],
      "metadata": {
        "id": "o_PLwUb90yBh"
      },
      "execution_count": null,
      "outputs": []
    },
    {
      "cell_type": "markdown",
      "source": [
        "confusion matrix code"
      ],
      "metadata": {
        "id": "cS_dCXm28rfm"
      }
    },
    {
      "cell_type": "code",
      "source": [
        "confusion_matrix=pd.DataFrame(columns=['COURT','PETITIONER', 'RESPONDENT' , 'LAWYER', 'JUDGE' , 'NONE'])\n",
        "confusion_matrix.loc['COURT']=[0,0,0,0,0,0]\n",
        "confusion_matrix.loc['PETITIONER']=[0,0,0,0,0,0]\n",
        "confusion_matrix.loc['RESPONDENT']=[0,0,0,0,0,0]\n",
        "confusion_matrix.loc['LAWYER']=[0,0,0,0,0,0]\n",
        "confusion_matrix.loc['JUDGE']=[0,0,0,0,0,0]\n",
        "confusion_matrix.loc['NONE']=[0,0,0,0,0,0]\n",
        "\n",
        "for i in range(len(testing_data_opt)):\n",
        "    text=testing_data_opt[i]['text']\n",
        "    doc=nlp_ner(text)\n",
        "    #print(\"###testing###\")\n",
        "    #print(testing_data[i]['entities'])\n",
        "    for ent in doc.ents:\n",
        "        flag=0\n",
        "        #print(ent.start_char,ent.end_char,ent.label_)\n",
        "        for astart,aend,arole in testing_data_opt[i]['entities']:\n",
        "            if(astart==ent.start_char and aend==ent.end_char):\n",
        "                confusion_matrix[ent.label_][arole]+=1\n",
        "                flag=1\n",
        "                break\n",
        "        if(flag==0):\n",
        "            confusion_matrix[ent.label_]['NONE']+=1\n",
        "    for astart,aend,arole in testing_data_opt[i]['entities']:\n",
        "        flag=0\n",
        "        for ent in doc.ents:\n",
        "            if(astart==ent.start_char and aend==ent.end_char):\n",
        "                flag=1\n",
        "                break\n",
        "        if(flag==0):\n",
        "            confusion_matrix['NONE'][arole]+=1\n",
        "print(confusion_matrix)\n",
        "\n",
        "precision_dict={}\n",
        "precision_dict['COURT']=0\n",
        "precision_dict['PETITIONER']=0\n",
        "precision_dict['RESPONDENT']=0\n",
        "precision_dict['LAWYER']=0\n",
        "precision_dict['JUDGE']=0\n",
        "precision_dict['NONE']=0\n",
        "\n",
        "roles=['COURT','PETITIONER','RESPONDENT','LAWYER','JUDGE','NONE']\n",
        "rolect=0\n",
        "for role in roles:\n",
        "    rolesum=0\n",
        "    print(confusion_matrix[role])\n",
        "    for i in confusion_matrix[role]:\n",
        "        rolesum+=i\n",
        "    precision_dict[role]=(confusion_matrix[role][rolect])/rolesum\n",
        "    rolect+=1\n",
        "print(precision_dict)"
      ],
      "metadata": {
        "id": "yZKWqLBy8Ulx",
        "colab": {
          "base_uri": "https://localhost:8080/"
        },
        "outputId": "fac5c86b-f811-449d-9b89-c4b2d6871a77"
      },
      "execution_count": null,
      "outputs": [
        {
          "output_type": "stream",
          "name": "stderr",
          "text": [
            "Token indices sequence length is longer than the specified maximum sequence length for this model (987 > 512). Running this sequence through the model will result in indexing errors\n"
          ]
        },
        {
          "output_type": "stream",
          "name": "stdout",
          "text": [
            "           COURT PETITIONER RESPONDENT LAWYER JUDGE NONE\n",
            "COURT        253          0          0      0     0   32\n",
            "PETITIONER     1        526         88      9     0   64\n",
            "RESPONDENT     0         13        783     18     3  120\n",
            "LAWYER         0          2          4    896     2   74\n",
            "JUDGE          1          4          3      5   453   28\n",
            "NONE          43         30        223     39    15    0\n",
            "COURT         253\n",
            "PETITIONER      1\n",
            "RESPONDENT      0\n",
            "LAWYER          0\n",
            "JUDGE           1\n",
            "NONE           43\n",
            "Name: COURT, dtype: object\n",
            "COURT           0\n",
            "PETITIONER    526\n",
            "RESPONDENT     13\n",
            "LAWYER          2\n",
            "JUDGE           4\n",
            "NONE           30\n",
            "Name: PETITIONER, dtype: object\n",
            "COURT           0\n",
            "PETITIONER     88\n",
            "RESPONDENT    783\n",
            "LAWYER          4\n",
            "JUDGE           3\n",
            "NONE          223\n",
            "Name: RESPONDENT, dtype: object\n",
            "COURT           0\n",
            "PETITIONER      9\n",
            "RESPONDENT     18\n",
            "LAWYER        896\n",
            "JUDGE           5\n",
            "NONE           39\n",
            "Name: LAWYER, dtype: object\n",
            "COURT           0\n",
            "PETITIONER      0\n",
            "RESPONDENT      3\n",
            "LAWYER          2\n",
            "JUDGE         453\n",
            "NONE           15\n",
            "Name: JUDGE, dtype: object\n",
            "COURT          32\n",
            "PETITIONER     64\n",
            "RESPONDENT    120\n",
            "LAWYER         74\n",
            "JUDGE          28\n",
            "NONE            0\n",
            "Name: NONE, dtype: object\n",
            "{'COURT': 0.8489932885906041, 'PETITIONER': 0.9147826086956522, 'RESPONDENT': 0.7111716621253406, 'LAWYER': 0.9265770423991727, 'JUDGE': 0.9577167019027484, 'NONE': 0.0}\n"
          ]
        }
      ]
    },
    {
      "cell_type": "code",
      "source": [
        "# doc = nlp_ner()\n",
        "\n",
        "\n",
        "# spacy.displacy.render(doc, style=\"ent\", jupyter=True)\n"
      ],
      "metadata": {
        "id": "6MUi2Rsk5Rcs"
      },
      "execution_count": null,
      "outputs": []
    },
    {
      "cell_type": "code",
      "source": [
        "doc = nlp_ner('''The Honble Sri Justice U. Durga Prasad Rao           \n",
        "\n",
        "M.A.C.M.A No.1656 of 2010  \n",
        "\n",
        "05-11-2014 \n",
        "\n",
        "Bajaj Allianz General Insurance Co. Ltd, Rep by its Regional Manager, Begumpet,\n",
        "Hyd..... Appellant\n",
        "\n",
        "M. Sreedevi and others.. Respondents  \n",
        "\n",
        "Counsel for Appellant                   : Sri T. Mahender Rao\n",
        "\n",
        "Counsel for Respondent Nos.1 to 5: Sri Mohd. Yousuf \n",
        " Counsel for Respondent No.6    : Sri M. Achutha Reddy \n",
        "\n",
        "<Gist:\n",
        "\n",
        ">Head Note: \n",
        "\n",
        "? Cases referred:\n",
        "1)      2008 Acj 2855  \n",
        "2)      2008 Acj 1307  \n",
        "3)      2003(5) Ald 162 \n",
        "4)      2004 Acj 1 (Sc) \n",
        "5)      1985 Acj 1397 (Sc)  \n",
        "6)      1995 Acj 358 (Ap)  \n",
        "7)      2009 Acj 88 (Ap) \n",
        "\n",
        "\n",
        "Honble Sri Justice U. Durga Prasad Rao          \n",
        "M.A.C.M.A.No.1656 of 2010  \n",
        "\n",
        "Judgment''')\n",
        "\n",
        "\n",
        "spacy.displacy.render(doc, style=\"ent\", jupyter=True)\n"
      ],
      "metadata": {
        "colab": {
          "base_uri": "https://localhost:8080/",
          "height": 1000
        },
        "id": "-SuT9fzi1m4H",
        "outputId": "6a8f240d-d4b6-4833-ad10-e0605a102abb"
      },
      "execution_count": null,
      "outputs": [
        {
          "output_type": "stream",
          "name": "stderr",
          "text": [
            "/usr/local/lib/python3.7/dist-packages/torch/amp/autocast_mode.py:198: UserWarning: User provided device_type of 'cuda', but CUDA is not available. Disabling\n",
            "  warnings.warn('User provided device_type of \\'cuda\\', but CUDA is not available. Disabling')\n"
          ]
        },
        {
          "output_type": "display_data",
          "data": {
            "text/plain": [
              "<IPython.core.display.HTML object>"
            ],
            "text/html": [
              "<span class=\"tex2jax_ignore\"><div class=\"entities\" style=\"line-height: 2.5; direction: ltr\">The Honble Sri Justice \n",
              "<mark class=\"entity\" style=\"background: #ddd; padding: 0.45em 0.6em; margin: 0 0.25em; line-height: 1; border-radius: 0.35em;\">\n",
              "    U. Durga Prasad Rao\n",
              "    <span style=\"font-size: 0.8em; font-weight: bold; line-height: 1; border-radius: 0.35em; vertical-align: middle; margin-left: 0.5rem\">JUDGE</span>\n",
              "</mark>\n",
              "           </br></br>M.A.C.M.A No.1656 of 2010  </br></br>05-11-2014 </br></br>\n",
              "<mark class=\"entity\" style=\"background: #ddd; padding: 0.45em 0.6em; margin: 0 0.25em; line-height: 1; border-radius: 0.35em;\">\n",
              "    Bajaj Allianz General Insurance Co. Ltd\n",
              "    <span style=\"font-size: 0.8em; font-weight: bold; line-height: 1; border-radius: 0.35em; vertical-align: middle; margin-left: 0.5rem\">PETITIONER</span>\n",
              "</mark>\n",
              ", Rep by its Regional Manager, Begumpet,</br>Hyd..... Appellant</br></br>\n",
              "<mark class=\"entity\" style=\"background: #ddd; padding: 0.45em 0.6em; margin: 0 0.25em; line-height: 1; border-radius: 0.35em;\">\n",
              "    M. Sreedevi\n",
              "    <span style=\"font-size: 0.8em; font-weight: bold; line-height: 1; border-radius: 0.35em; vertical-align: middle; margin-left: 0.5rem\">RESPONDENT</span>\n",
              "</mark>\n",
              " and others.. Respondents  </br></br>Counsel for Appellant                   : Sri \n",
              "<mark class=\"entity\" style=\"background: #ddd; padding: 0.45em 0.6em; margin: 0 0.25em; line-height: 1; border-radius: 0.35em;\">\n",
              "    T. Mahender Rao\n",
              "    <span style=\"font-size: 0.8em; font-weight: bold; line-height: 1; border-radius: 0.35em; vertical-align: middle; margin-left: 0.5rem\">LAWYER</span>\n",
              "</mark>\n",
              "</br></br>Counsel for Respondent Nos.1 to 5: Sri \n",
              "<mark class=\"entity\" style=\"background: #ddd; padding: 0.45em 0.6em; margin: 0 0.25em; line-height: 1; border-radius: 0.35em;\">\n",
              "    Mohd. Yousuf\n",
              "    <span style=\"font-size: 0.8em; font-weight: bold; line-height: 1; border-radius: 0.35em; vertical-align: middle; margin-left: 0.5rem\">LAWYER</span>\n",
              "</mark>\n",
              " </br> Counsel for Respondent No.6    : Sri \n",
              "<mark class=\"entity\" style=\"background: #ddd; padding: 0.45em 0.6em; margin: 0 0.25em; line-height: 1; border-radius: 0.35em;\">\n",
              "    M. Achutha Reddy\n",
              "    <span style=\"font-size: 0.8em; font-weight: bold; line-height: 1; border-radius: 0.35em; vertical-align: middle; margin-left: 0.5rem\">LAWYER</span>\n",
              "</mark>\n",
              " </br></br>&lt;Gist:</br></br>&gt;Head Note: </br></br>? Cases referred:</br>1)      2008 Acj 2855  </br>2)      2008 Acj 1307  </br>3)      2003(5) Ald 162 </br>4)      2004 Acj 1 (Sc) </br>5)      1985 Acj 1397 (Sc)  </br>6)      1995 Acj 358 (Ap)  </br>7)      2009 Acj 88 (Ap) </br></br></br>Honble Sri Justice \n",
              "<mark class=\"entity\" style=\"background: #ddd; padding: 0.45em 0.6em; margin: 0 0.25em; line-height: 1; border-radius: 0.35em;\">\n",
              "    U. Durga Prasad Rao\n",
              "    <span style=\"font-size: 0.8em; font-weight: bold; line-height: 1; border-radius: 0.35em; vertical-align: middle; margin-left: 0.5rem\">JUDGE</span>\n",
              "</mark>\n",
              "          </br>M.A.C.M.A.No.1656 of 2010  </br></br>Judgment</div></span>"
            ]
          },
          "metadata": {}
        }
      ]
    },
    {
      "cell_type": "code",
      "source": [
        "testing_data_opt[69]['entities']"
      ],
      "metadata": {
        "colab": {
          "base_uri": "https://localhost:8080/"
        },
        "id": "FHJfpFhP2uYi",
        "outputId": "e119e10c-35a2-4916-c81b-0f16edf826ed"
      },
      "execution_count": null,
      "outputs": [
        {
          "output_type": "execute_result",
          "data": {
            "text/plain": [
              "[(7, 40, 'COURT'),\n",
              " (272, 285, 'PETITIONER'),\n",
              " (444, 458, 'RESPONDENT'),\n",
              " (577, 665, 'RESPONDENT'),\n",
              " (676, 758, 'RESPONDENT'),\n",
              " (765, 792, 'RESPONDENT'),\n",
              " (880, 891, 'PETITIONER'),\n",
              " (1016, 1028, 'PETITIONER'),\n",
              " (1266, 1277, 'LAWYER'),\n",
              " (1300, 1314, 'LAWYER'),\n",
              " (1333, 1344, 'LAWYER'),\n",
              " (1386, 1399, 'LAWYER'),\n",
              " (1439, 1451, 'LAWYER'),\n",
              " (1489, 1502, 'LAWYER'),\n",
              " (1546, 1560, 'LAWYER'),\n",
              " (1583, 1594, 'LAWYER'),\n",
              " (1613, 1623, 'LAWYER'),\n",
              " (1638, 1654, 'LAWYER'),\n",
              " (1673, 1692, 'LAWYER'),\n",
              " (1732, 1745, 'LAWYER'),\n",
              " (1847, 1859, 'JUDGE'),\n",
              " (1898, 1910, 'JUDGE')]"
            ]
          },
          "metadata": {},
          "execution_count": 15
        }
      ]
    },
    {
      "cell_type": "code",
      "source": [
        "doc = nlp_ner('''In The High Court Of Judicature At Patna\n",
        "\n",
        "                    Letters Patent Appeal No.2294 of 2015\n",
        "                                 Arising out of\n",
        "                 Civil Writ Jurisdiction Case No. 17721 of 2015\n",
        "===========================================================\n",
        "Amrawati Devi, wife of Sri Dinanath Yadav, Resident of Mohallla- Manik Chand Talab, P.O. Anishabad, P.S. Gardanibagh, District- Patna. \n",
        "\n",
        " .... .... Appellant Versus\n",
        "1. The State of Bihar through the Principal Secretary, Urban Development and Town Planning Department, Government of Bihar, Patna. \n",
        "\n",
        "2. The Principal Secretary, Urban Development and Town Planning Department, Government of Bihar. \n",
        "\n",
        "3. The Principal Secretary, Department of Law and Justice Department, Government of Bihar. \n",
        "\n",
        "4. Patna Municipal Corporation through its Chief Executive Officer, Maurya Lok Building, Bailey Road, Patna. \n",
        "\n",
        "5. Mr. Binod Kumar, son of Sri Janak Prasad Singh, Resident of Mohalla- Mohanpur, Punaichak, P.O and P.S. Shastri Nagar, District- Patna. \n",
        "\n",
        "6. Roop Narayan, son of Shri Ram Narayan Prasad, Resident of Mohalla- Mehandiganj, P.O and P.S. Patna City, District-Patna, Bihar. \n",
        "\n",
        " .... .... Respondents =========================================================== Appearance :\n",
        "For the Appellant : Mr. Vinod Kanth, Sr. Advocate. \n",
        "\n",
        " Mr. S.B.K. Manglam, Advocate. \n",
        "\n",
        " Mr. Ravi Ranjan, Advocate. \n",
        "\n",
        "For the State         : Mr. Lalit Kishore, P.A.A.G.\n",
        "                         Mr. U.S.S. Singh, G.P.-I\n",
        "                         Mr. R.K. Chandram, A.C. to G.P.-I\n",
        "For Respondent No. 6 : Mr. Jitendra Singh, Sr. Advocate. \n",
        "\n",
        " Mr. Piyush Lall, Advocate. \n",
        "\n",
        " Mr. Yash Singh, Advocate Mr. Tej Pratap Singh, Advocate. \n",
        "\n",
        " Mr. Kamal Kishore Singh, Advocate. \n",
        "\n",
        "For the Corporation : Mr. Prasoon Sinha, Advocate. =========================================================== Coram: Honourable Mr. Justice I. A. Ansari, A.C.J. \n",
        "\n",
        " and Honourable Mr. Justice Hemant Gupta C.A.V. Judgment''')\n",
        "\n",
        "\n",
        "#spacy.displacy.render(doc, style=\"ent\", jupyter=True)\n",
        "\n",
        "for ent in doc.ents:\n",
        "  print(f\"Entity {ent} found with start at {ent.start_char} and end at {ent.end_char}\")\n",
        "  \n"
      ],
      "metadata": {
        "colab": {
          "base_uri": "https://localhost:8080/"
        },
        "id": "dr_ZbIKU3Uxd",
        "outputId": "cf5fac17-f55d-40ef-be09-89c120e187f6"
      },
      "execution_count": null,
      "outputs": [
        {
          "output_type": "stream",
          "name": "stderr",
          "text": [
            "/usr/local/lib/python3.7/dist-packages/torch/amp/autocast_mode.py:198: UserWarning: User provided device_type of 'cuda', but CUDA is not available. Disabling\n",
            "  warnings.warn('User provided device_type of \\'cuda\\', but CUDA is not available. Disabling')\n"
          ]
        },
        {
          "output_type": "stream",
          "name": "stdout",
          "text": [
            "Entity High Court Of Judicature At Patna found with start at 7 and end at 40\n",
            "Entity Amrawati Devi found with start at 272 and end at 285\n",
            "Entity Dinanath Yadav found with start at 299 and end at 313\n",
            "Entity State of Bihar found with start at 444 and end at 458\n",
            "Entity Principal Secretary, Urban Development and Town Planning Department, Government of Bihar found with start at 577 and end at 665\n",
            "Entity Principal Secretary, Department of Law and Justice Department, Government of Bihar found with start at 676 and end at 758\n",
            "Entity Patna Municipal Corporation found with start at 765 and end at 792\n",
            "Entity Binod Kumar found with start at 880 and end at 891\n",
            "Entity Roop Narayan found with start at 1016 and end at 1028\n",
            "Entity Vinod Kanth found with start at 1266 and end at 1277\n",
            "Entity S.B.K. Manglam found with start at 1300 and end at 1314\n",
            "Entity Ravi Ranjan found with start at 1333 and end at 1344\n",
            "Entity Lalit Kishore found with start at 1386 and end at 1399\n",
            "Entity U.S.S. Singh found with start at 1439 and end at 1451\n",
            "Entity R.K. Chandram found with start at 1489 and end at 1502\n",
            "Entity Jitendra Singh found with start at 1546 and end at 1560\n",
            "Entity Piyush Lall found with start at 1583 and end at 1594\n",
            "Entity Yash Singh found with start at 1613 and end at 1623\n",
            "Entity Tej Pratap Singh found with start at 1638 and end at 1654\n",
            "Entity Kamal Kishore Singh found with start at 1673 and end at 1692\n",
            "Entity Prasoon Sinha found with start at 1732 and end at 1745\n",
            "Entity I. A. Ansari found with start at 1847 and end at 1859\n",
            "Entity Hemant Gupta found with start at 1898 and end at 1910\n"
          ]
        }
      ]
    },
    {
      "cell_type": "code",
      "source": [
        "testing_data_opt[24]['entities']"
      ],
      "metadata": {
        "colab": {
          "base_uri": "https://localhost:8080/"
        },
        "id": "czBYfHlM4SOV",
        "outputId": "1c12f7aa-b779-453a-cab1-b32bdce9e757"
      },
      "execution_count": null,
      "outputs": [
        {
          "output_type": "execute_result",
          "data": {
            "text/plain": [
              "[(85, 119, 'COURT'),\n",
              " (435, 460, 'PETITIONER'),\n",
              " (614, 637, 'RESPONDENT'),\n",
              " (773, 798, 'PETITIONER'),\n",
              " (879, 887, 'PETITIONER'),\n",
              " (997, 1035, 'PETITIONER'),\n",
              " (1276, 1296, 'RESPONDENT'),\n",
              " (1598, 1617, 'LAWYER'),\n",
              " (1658, 1668, 'LAWYER'),\n",
              " (1841, 1853, 'JUDGE'),\n",
              " (1858, 1866, 'JUDGE')]"
            ]
          },
          "metadata": {},
          "execution_count": 19
        }
      ]
    },
    {
      "cell_type": "code",
      "source": [
        "doc = nlp_ner('''1                                                       \n",
        "\n",
        "\n",
        "                   In The High Court Of Judicature At Bombay,\n",
        "                             Nagpur Bench, Nagpur.\n",
        "\n",
        "\n",
        "\n",
        "\n",
        "                                                                                                         \n",
        "                                                                                \n",
        "                                   Cri. Appeal No.418 Of 2005.\n",
        "\n",
        "\n",
        "    1. Motiram Marotrao Bhongade\n",
        "\n",
        "\n",
        "\n",
        "\n",
        "                                                                               \n",
        "       aged about 70 years, \n",
        "       Occupation : Cultivator,\n",
        "\n",
        "    2. Sanjay Motiram Bhongade,\n",
        "       aged about 34 years, \n",
        "\n",
        "\n",
        "\n",
        "\n",
        "                                                               \n",
        "       Occupation : Service,\n",
        "\n",
        "    3. Laxmibai Motiram Bhongade,\n",
        "       aged about 60 years, \n",
        "                                          \n",
        "    4. Leelabai w/o. Bablu @ Rooprao Falke,\n",
        "                                         \n",
        "       aged about 34 years, \n",
        "\n",
        "         All residents of Satrapur, P.S. Kanhan,\n",
        "         District : Nagpur. \n",
        "             \n",
        "\n",
        "\n",
        "                                                                                           .... Appellants.\n",
        "          \n",
        "\n",
        "\n",
        "\n",
        "                                                  // Versus //\n",
        "\n",
        "    The State of Maharashtra,\n",
        "    Through Police Station, Kanhan, \n",
        "\n",
        "\n",
        "\n",
        "\n",
        "\n",
        "    District : Nagpur. \n",
        "\n",
        "                                                                                             ....Respondent.\n",
        "    --------------------------------------------------------------------------------------------------------------\n",
        "    Shri Shashank V. Manohar, Advocate for Appellants.\n",
        "\n",
        "\n",
        "\n",
        "\n",
        "\n",
        "    Mrs. K.S. Joshi, A.P.P. for Respondent.\n",
        "    --------------------------------------------------------------------------------------------------------------\n",
        "\n",
        "                      Coram  :  A.P. Lavande And P.D.Kode, Jj.\n",
        "                      Date Of Reserving Judgment''')\n",
        "\n",
        "spacy.displacy.render(doc, style=\"ent\", jupyter=True)"
      ],
      "metadata": {
        "colab": {
          "base_uri": "https://localhost:8080/",
          "height": 1000
        },
        "id": "K1sBgNN_4_0o",
        "outputId": "f4a3c2e5-eeef-47bf-fea6-12c5868f5bba"
      },
      "execution_count": null,
      "outputs": [
        {
          "output_type": "stream",
          "name": "stderr",
          "text": [
            "Token indices sequence length is longer than the specified maximum sequence length for this model (987 > 512). Running this sequence through the model will result in indexing errors\n",
            "/usr/local/lib/python3.7/dist-packages/torch/amp/autocast_mode.py:198: UserWarning: User provided device_type of 'cuda', but CUDA is not available. Disabling\n",
            "  warnings.warn('User provided device_type of \\'cuda\\', but CUDA is not available. Disabling')\n"
          ]
        },
        {
          "output_type": "display_data",
          "data": {
            "text/plain": [
              "<IPython.core.display.HTML object>"
            ],
            "text/html": [
              "<span class=\"tex2jax_ignore\"><div class=\"entities\" style=\"line-height: 2.5; direction: ltr\">1                                                       </br></br></br>                   In The \n",
              "<mark class=\"entity\" style=\"background: #ddd; padding: 0.45em 0.6em; margin: 0 0.25em; line-height: 1; border-radius: 0.35em;\">\n",
              "    High Court Of Judicature At Bombay,\n",
              "                             Nagpur Bench, Nagpur\n",
              "    <span style=\"font-size: 0.8em; font-weight: bold; line-height: 1; border-radius: 0.35em; vertical-align: middle; margin-left: 0.5rem\">COURT</span>\n",
              "</mark>\n",
              ".</br></br></br></br></br>                                                                                                         </br>                                                                                </br>                                   Cri. Appeal No.418 Of 2005.</br></br></br>    1. \n",
              "<mark class=\"entity\" style=\"background: #ddd; padding: 0.45em 0.6em; margin: 0 0.25em; line-height: 1; border-radius: 0.35em;\">\n",
              "    Motiram Marotrao Bhongade\n",
              "    <span style=\"font-size: 0.8em; font-weight: bold; line-height: 1; border-radius: 0.35em; vertical-align: middle; margin-left: 0.5rem\">PETITIONER</span>\n",
              "</mark>\n",
              "</br></br></br></br></br>                                                                               </br>       aged about 70 years, </br>       Occupation : Cultivator,</br></br>    2. \n",
              "<mark class=\"entity\" style=\"background: #ddd; padding: 0.45em 0.6em; margin: 0 0.25em; line-height: 1; border-radius: 0.35em;\">\n",
              "    Sanjay Motiram Bhongade\n",
              "    <span style=\"font-size: 0.8em; font-weight: bold; line-height: 1; border-radius: 0.35em; vertical-align: middle; margin-left: 0.5rem\">RESPONDENT</span>\n",
              "</mark>\n",
              ",</br>       aged about 34 years, </br></br></br></br></br>                                                               </br>       \n",
              "<mark class=\"entity\" style=\"background: #ddd; padding: 0.45em 0.6em; margin: 0 0.25em; line-height: 1; border-radius: 0.35em;\">\n",
              "    Occupation : Service,\n",
              "\n",
              "    3. Laxmibai Motiram Bhongade,\n",
              "       aged about 60 years, \n",
              "                                          \n",
              "    4. Leelabai w/o. Bablu @ Rooprao Falke,\n",
              "                                         \n",
              "       aged about 34 years, \n",
              "\n",
              "         All residents of Satrapur, P.S.\n",
              "    <span style=\"font-size: 0.8em; font-weight: bold; line-height: 1; border-radius: 0.35em; vertical-align: middle; margin-left: 0.5rem\">COURT</span>\n",
              "</mark>\n",
              " Kanhan,</br>         District : Nagpur. </br>             </br></br></br>                                                                                           .... Appellants.</br>          </br></br></br></br>                                                  // Versus //</br></br>    The \n",
              "<mark class=\"entity\" style=\"background: #ddd; padding: 0.45em 0.6em; margin: 0 0.25em; line-height: 1; border-radius: 0.35em;\">\n",
              "    State of Maharashtra\n",
              "    <span style=\"font-size: 0.8em; font-weight: bold; line-height: 1; border-radius: 0.35em; vertical-align: middle; margin-left: 0.5rem\">RESPONDENT</span>\n",
              "</mark>\n",
              ",</br>    Through Police Station, Kanhan, </br></br></br></br></br></br>    District : Nagpur. </br></br>                                                                                             ....Respondent.</br>    --------------------------------------------------------------------------------------------------------------</br>    Shri \n",
              "<mark class=\"entity\" style=\"background: #ddd; padding: 0.45em 0.6em; margin: 0 0.25em; line-height: 1; border-radius: 0.35em;\">\n",
              "    Shashank V. Manohar\n",
              "    <span style=\"font-size: 0.8em; font-weight: bold; line-height: 1; border-radius: 0.35em; vertical-align: middle; margin-left: 0.5rem\">LAWYER</span>\n",
              "</mark>\n",
              ", Advocate for Appellants.</br></br></br></br></br></br>    Mrs. \n",
              "<mark class=\"entity\" style=\"background: #ddd; padding: 0.45em 0.6em; margin: 0 0.25em; line-height: 1; border-radius: 0.35em;\">\n",
              "    K.S. Joshi\n",
              "    <span style=\"font-size: 0.8em; font-weight: bold; line-height: 1; border-radius: 0.35em; vertical-align: middle; margin-left: 0.5rem\">LAWYER</span>\n",
              "</mark>\n",
              ", A.P.P. for Respondent.</br>    --------------------------------------------------------------------------------------------------------------</br></br>                      Coram  :  \n",
              "<mark class=\"entity\" style=\"background: #ddd; padding: 0.45em 0.6em; margin: 0 0.25em; line-height: 1; border-radius: 0.35em;\">\n",
              "    A.P. Lavande\n",
              "    <span style=\"font-size: 0.8em; font-weight: bold; line-height: 1; border-radius: 0.35em; vertical-align: middle; margin-left: 0.5rem\">JUDGE</span>\n",
              "</mark>\n",
              " And \n",
              "<mark class=\"entity\" style=\"background: #ddd; padding: 0.45em 0.6em; margin: 0 0.25em; line-height: 1; border-radius: 0.35em;\">\n",
              "    P.D.Kode\n",
              "    <span style=\"font-size: 0.8em; font-weight: bold; line-height: 1; border-radius: 0.35em; vertical-align: middle; margin-left: 0.5rem\">JUDGE</span>\n",
              "</mark>\n",
              ", Jj.</br>                      Date Of Reserving Judgment</div></span>"
            ]
          },
          "metadata": {}
        }
      ]
    },
    {
      "cell_type": "code",
      "source": [],
      "metadata": {
        "id": "CyJml2jJyqGb"
      },
      "execution_count": null,
      "outputs": []
    }
  ]
}